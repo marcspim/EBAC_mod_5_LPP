{
  "nbformat": 4,
  "nbformat_minor": 0,
  "metadata": {
    "colab": {
      "provenance": [],
      "authorship_tag": "ABX9TyNfNKAJB0cOnp5g+X/Iv3H8",
      "include_colab_link": true
    },
    "kernelspec": {
      "name": "python3",
      "display_name": "Python 3"
    },
    "language_info": {
      "name": "python"
    }
  },
  "cells": [
    {
      "cell_type": "markdown",
      "metadata": {
        "id": "view-in-github",
        "colab_type": "text"
      },
      "source": [
        "<a href=\"https://colab.research.google.com/github/marcspim/EBAC_mod_5_LPP/blob/master/EBAC_mod_5_aula_3.ipynb\" target=\"_parent\"><img src=\"https://colab.research.google.com/assets/colab-badge.svg\" alt=\"Open In Colab\"/></a>"
      ]
    },
    {
      "cell_type": "markdown",
      "source": [
        "### Variáveis\n",
        "\n",
        "Variáveis estão associadas em espaços na memória"
      ],
      "metadata": {
        "id": "ZrcFYP0V8hUQ"
      }
    },
    {
      "cell_type": "code",
      "execution_count": null,
      "metadata": {
        "id": "HUX0dkPT5Boh"
      },
      "outputs": [],
      "source": [
        "# Nome da variável é \"x\" que armazena o valor 10 em um espaço na memória\n",
        "x = 10\n",
        "\n",
        "print(x) # Utilizar a referência  no nome atribuído"
      ]
    },
    {
      "cell_type": "markdown",
      "source": [
        "Regras\n",
        "\n",
        "\n",
        "**Case Sensitive**\n",
        "\n",
        "A != a\n",
        "\n",
        "**Boas Práticas com Variáveis**\n",
        "\n",
        "  Exemplo: Multiplicação de 2 números\n",
        "\n",
        "  Não usar\n",
        "\n",
        "\n",
        "*   Multiplicação\n",
        "*   MultiplicacaoDeDoisNumeros\n",
        "*   m\n",
        "\n",
        "\n",
        "  Usar\n",
        "\n",
        "\n",
        "*   multiplicacao\n",
        "*   mult\n",
        "*   mult_total(snake_case)"
      ],
      "metadata": {
        "id": "7BzP2YP38wdN"
      }
    }
  ]
}