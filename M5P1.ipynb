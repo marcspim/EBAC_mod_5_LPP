{
  "nbformat": 4,
  "nbformat_minor": 0,
  "metadata": {
    "colab": {
      "provenance": [],
      "authorship_tag": "ABX9TyPIEb+CU2b7wVH/ev2tjjQs",
      "include_colab_link": true
    },
    "kernelspec": {
      "name": "python3",
      "display_name": "Python 3"
    },
    "language_info": {
      "name": "python"
    }
  },
  "cells": [
    {
      "cell_type": "markdown",
      "metadata": {
        "id": "view-in-github",
        "colab_type": "text"
      },
      "source": [
        "<a href=\"https://colab.research.google.com/github/marcspim/EBAC_mod_5_LPP/blob/master/M5P1.ipynb\" target=\"_parent\"><img src=\"https://colab.research.google.com/assets/colab-badge.svg\" alt=\"Open In Colab\"/></a>"
      ]
    },
    {
      "cell_type": "code",
      "source": [
        "# Solicita ao usuário inserir dois números\n",
        "num1 = input(\"Digite o primeiro número: \")\n",
        "num2 = input(\"Digite o segundo número: \")\n",
        "\n",
        "# Converte os valores recebidos para tipo float\n",
        "num1 = float(num1)\n",
        "num2 = float(num2)\n",
        "\n",
        "# Função para realizar as operações matemáticas\n",
        "def operacao(opcao):\n",
        "    global num2 # Possibilita que o num2 seja alterado dentro da função\n",
        "    if opcao == 1:\n",
        "        return num1 + num2\n",
        "    elif opcao == 2:\n",
        "        return num1 - num2\n",
        "    elif opcao == 3:\n",
        "        return num1 * num2\n",
        "    elif opcao == 4:\n",
        "        while num2 == 0: # Laço que garante que a divisão não seja feita por 0\n",
        "          print(\"Divisão por zero não permitida!\")\n",
        "          num2 = float(input(\"Digite outro número: \"))\n",
        "        return num1 / num2\n",
        "    else:\n",
        "        return \"Opção inválida!\"\n",
        "\n",
        "# Laço que permite ao usuário escolher uma operação repetidamente\n",
        "while True:\n",
        "    print(\"\\nEscolha uma operação matemática:\")\n",
        "    print(\"1. Soma\")\n",
        "    print(\"2. Subtração\")\n",
        "    print(\"3. Multiplicação\")\n",
        "    print(\"4. Divisão\")\n",
        "    print(\"5. Sair\")\n",
        "\n",
        "    opcao = int(input(\"Digite o número da operação (1-5): \"))\n",
        "\n",
        "# Caso o usuário escolha a opção 5, o programa é encerrado\n",
        "    if opcao == 5:\n",
        "        print(\"Saindo...\")\n",
        "        break\n",
        "\n",
        "# Realiza a operação e exibe o resultado\n",
        "    resultado = operacao(opcao)\n",
        "    print(f\"O resultado da operação é: {resultado}.\")"
      ],
      "metadata": {
        "colab": {
          "base_uri": "https://localhost:8080/"
        },
        "id": "ik5Y3tqLWwLL",
        "outputId": "5c89a01a-6bcf-4c21-960c-9c07c62b7094"
      },
      "execution_count": 14,
      "outputs": [
        {
          "output_type": "stream",
          "name": "stdout",
          "text": [
            "Digite o primeiro número: 10\n",
            "Digite o segundo número: 2.5\n",
            "\n",
            "Escolha uma operação matemática:\n",
            "1. Soma\n",
            "2. Subtração\n",
            "3. Multiplicação\n",
            "4. Divisão\n",
            "5. Sair\n",
            "Digite o número da operação (1-5): 1\n",
            "O resultado da operação é: 12.5.\n",
            "\n",
            "Escolha uma operação matemática:\n",
            "1. Soma\n",
            "2. Subtração\n",
            "3. Multiplicação\n",
            "4. Divisão\n",
            "5. Sair\n",
            "Digite o número da operação (1-5): 2\n",
            "O resultado da operação é: 7.5.\n",
            "\n",
            "Escolha uma operação matemática:\n",
            "1. Soma\n",
            "2. Subtração\n",
            "3. Multiplicação\n",
            "4. Divisão\n",
            "5. Sair\n",
            "Digite o número da operação (1-5): 3\n",
            "O resultado da operação é: 25.0.\n",
            "\n",
            "Escolha uma operação matemática:\n",
            "1. Soma\n",
            "2. Subtração\n",
            "3. Multiplicação\n",
            "4. Divisão\n",
            "5. Sair\n",
            "Digite o número da operação (1-5): 4\n",
            "O resultado da operação é: 4.0.\n",
            "\n",
            "Escolha uma operação matemática:\n",
            "1. Soma\n",
            "2. Subtração\n",
            "3. Multiplicação\n",
            "4. Divisão\n",
            "5. Sair\n",
            "Digite o número da operação (1-5): 6\n",
            "O resultado da operação é: Opção inválida!.\n",
            "\n",
            "Escolha uma operação matemática:\n",
            "1. Soma\n",
            "2. Subtração\n",
            "3. Multiplicação\n",
            "4. Divisão\n",
            "5. Sair\n",
            "Digite o número da operação (1-5): 5\n",
            "Saindo...\n"
          ]
        }
      ]
    }
  ]
}