{
  "nbformat": 4,
  "nbformat_minor": 0,
  "metadata": {
    "colab": {
      "provenance": [],
      "authorship_tag": "ABX9TyOG6P5ix4a99Ho3No2NdFrd",
      "include_colab_link": true
    },
    "kernelspec": {
      "name": "python3",
      "display_name": "Python 3"
    },
    "language_info": {
      "name": "python"
    }
  },
  "cells": [
    {
      "cell_type": "markdown",
      "metadata": {
        "id": "view-in-github",
        "colab_type": "text"
      },
      "source": [
        "<a href=\"https://colab.research.google.com/github/marcspim/EBAC_mod_5_LPP/blob/master/EBAC_mod_5_aula_5.ipynb\" target=\"_parent\"><img src=\"https://colab.research.google.com/assets/colab-badge.svg\" alt=\"Open In Colab\"/></a>"
      ]
    },
    {
      "cell_type": "markdown",
      "source": [
        "### Condicional"
      ],
      "metadata": {
        "id": "c034GgTcD97o"
      }
    },
    {
      "cell_type": "code",
      "execution_count": 4,
      "metadata": {
        "colab": {
          "base_uri": "https://localhost:8080/"
        },
        "id": "I4RnB2eZDg6Z",
        "outputId": "56528116-6099-4538-81bc-6abb5ea65292"
      },
      "outputs": [
        {
          "output_type": "stream",
          "name": "stdout",
          "text": [
            "Verdade\n"
          ]
        }
      ],
      "source": [
        "# If\n",
        "if 5 < 10:\n",
        "  print('Verdade')"
      ]
    },
    {
      "cell_type": "code",
      "source": [
        "# If/else\n",
        "num1 = 10\n",
        "num2 = 5\n",
        "if num1 > num2:\n",
        "  print(num1, 'é maior que', num2)\n",
        "else:\n",
        "  print(num2, 'é menor que', num1)"
      ],
      "metadata": {
        "colab": {
          "base_uri": "https://localhost:8080/"
        },
        "id": "rrguRUrbEBY6",
        "outputId": "ac909566-957a-4bb0-e1a2-ba9c09132e6f"
      },
      "execution_count": 9,
      "outputs": [
        {
          "output_type": "stream",
          "name": "stdout",
          "text": [
            "10 é maior que 5\n"
          ]
        }
      ]
    },
    {
      "cell_type": "code",
      "source": [
        "# If/Elif/Else\n",
        "num1 = 10\n",
        "num2 = 10\n",
        "if num1 > num2:\n",
        "  print('O num1 é o maior número')\n",
        "elif num1 < num2:\n",
        "  print('O num2 é o maior número')\n",
        "else:\n",
        "  print('Os dois são iguais')"
      ],
      "metadata": {
        "colab": {
          "base_uri": "https://localhost:8080/"
        },
        "id": "yB6bvq0YFCzV",
        "outputId": "9afb24a4-9c1d-4fec-82e8-ff769ceb17cb"
      },
      "execution_count": 10,
      "outputs": [
        {
          "output_type": "stream",
          "name": "stdout",
          "text": [
            "Os dois são iguais\n"
          ]
        }
      ]
    },
    {
      "cell_type": "markdown",
      "source": [
        "### Condicional com operadores lógicos"
      ],
      "metadata": {
        "id": "OtiDrhcKFWvB"
      }
    },
    {
      "cell_type": "code",
      "source": [
        "num1 = 10\n",
        "num2 = 5\n",
        "num3 = 2\n",
        "if (num1 > num2) and (num1 > num3):\n",
        "  print('O num1 é o maior número')\n",
        "else:\n",
        "  print('O num1 não é o maior número')"
      ],
      "metadata": {
        "colab": {
          "base_uri": "https://localhost:8080/"
        },
        "id": "PT1dn6u-FYuJ",
        "outputId": "a4bb5a3d-4503-4353-d5b9-3a34bbae806e"
      },
      "execution_count": 11,
      "outputs": [
        {
          "output_type": "stream",
          "name": "stdout",
          "text": [
            "O num1 é o maior número\n"
          ]
        }
      ]
    }
  ]
}